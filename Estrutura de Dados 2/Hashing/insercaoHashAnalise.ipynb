{
 "cells": [
  {
   "cell_type": "code",
   "execution_count": 51,
   "id": "96fa559a",
   "metadata": {},
   "outputs": [],
   "source": [
    "import random\n",
    "import matplotlib.pyplot as plt\n",
    "import numpy as np"
   ]
  },
  {
   "cell_type": "code",
   "execution_count": 52,
   "id": "506e954e",
   "metadata": {},
   "outputs": [],
   "source": [
    "def inserir_n_aleatorios(m, aleatorios):\n",
    "    th = [[] for i in range(m)] # Cria a nossa lista \n",
    "    for rn in aleatorios:\n",
    "        h = rn % m\n",
    "        if rn not in th[h]: # Se x não tiver no vetor\n",
    "            th [h].append(rn) # Append coloca no final da lista\n",
    "   # print(th)\n",
    "    return th\n",
    "\n",
    "def tam_medio(th):\n",
    "    tam = list(map(len, th))\n",
    "    return np.mean (tam), np.std(tam)"
   ]
  },
  {
   "cell_type": "code",
   "execution_count": 53,
   "id": "48ebdceb",
   "metadata": {},
   "outputs": [],
   "source": [
    "t = inserir_n_aleatorios(7, [7, 20, 15, 14])"
   ]
  },
  {
   "cell_type": "code",
   "execution_count": 54,
   "id": "f24416f3",
   "metadata": {},
   "outputs": [
    {
     "name": "stdout",
     "output_type": "stream",
     "text": [
      "[[7, 14], [15], [], [], [], [], [20]]\n",
      "[2, 1, 0, 0, 0, 0, 1]\n"
     ]
    }
   ],
   "source": [
    "print(t)\n",
    "print (list (map(len, t)) ) # a função len toda para cada elemento desta lista"
   ]
  },
  {
   "cell_type": "code",
   "execution_count": 58,
   "id": "a8b05027",
   "metadata": {},
   "outputs": [
    {
     "data": {
      "image/png": "[encoded data removed]",
      "text/plain": [
       "<Figure size 432x288 with 1 Axes>"
      ]
     },
     "metadata": {
      "needs_background": "light"
     },
     "output_type": "display_data"
    },
    {
     "data": {
      "image/png": "[encoded data removed]",
      "text/plain": [
       "<Figure size 432x288 with 1 Axes>"
      ]
     },
     "metadata": {
      "needs_background": "light"
     },
     "output_type": "display_data"
    }
   ],
   "source": [
    "# Agora vamos criar duas tabelas hash, uma com números primos e outra com números compostos. \n",
    "# Vamos gerar um vetor aleatório com uma quantidade m de elementos que eu quiser\n",
    "\n",
    "ms = [500, 499] # número composto e número primo próximo\n",
    "ns = [100000] #insere 100000 elementos aleatorios em uma tabela de 500 e em outra tabela de 499\n",
    "\n",
    "random.seed(1)\n",
    "\n",
    "for n in ns:\n",
    "    aleatorios = []\n",
    "    for i in range(n):\n",
    "        aleatorios.append(random.randint(0, 10*n))\n",
    "        \n",
    "    for m in ms:\n",
    "        plt.figure()\n",
    "        th = inserir_n_aleatorios(m, aleatorios)\n",
    "        \n",
    "        media, desvio = tam_medio(th)\n",
    "        \n",
    "        titulo = \"m = %d, tamanho médio = %.2f += %.2f\" % (m, media, desvio)\n",
    "        plt.title(titulo)\n",
    "        \n",
    "       # plt.bar(range(m), list (map(len, th)))\n",
    "       # plt.axhline(media, color = 'red')\n",
    "        \n",
    "        p10, p90 = np.quantile(list(map(len, th)), [0.1, 0.9]) #quantil de 10% e de 90%\n",
    "        \n",
    "        plt.hist(list(map(len, th)), 20)\n",
    "        plt.axvline(p10, color = 'purple')\n",
    "        plt.axvline (p90, color = 'purple')\n",
    "        plt.ylabel(\"Número de listas\")\n",
    "        plt.xlabel(\"Tamanho da lista\")"
   ]
  },
  {
   "cell_type": "code",
   "execution_count": 59,
   "id": "9ab1effa",
   "metadata": {},
   "outputs": [],
   "source": [
    "# Na média, temos aproximadamente 200 elementos em cada lista. O tamanho médio das listas é N/M\n",
    "# Percebemos a diferença sutil entre o número par e um composto próximo\n",
    "# Conforme a tabela vai enchendo, monitorar N/M com um limite que vc estabelece. Assim, quando o limite é atingido, aumenta o M\n",
    "# O número primo tende a ficar mais próximo da média"
   ]
  },
  {
   "cell_type": "code",
   "execution_count": null,
   "id": "480810ce",
   "metadata": {},
   "outputs": [],
   "source": []
  }
 ],
 "metadata": {
  "kernelspec": {
   "display_name": "Python 3",
   "language": "python",
   "name": "python3"
  },
  "language_info": {
   "codemirror_mode": {
    "name": "ipython",
    "version": 3
   },
   "file_extension": ".py",
   "mimetype": "text/x-python",
   "name": "python",
   "nbconvert_exporter": "python",
   "pygments_lexer": "ipython3",
   "version": "3.8.8"
  }
 },
 "nbformat": 4,
 "nbformat_minor": 5
}
